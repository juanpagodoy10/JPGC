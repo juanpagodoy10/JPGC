{
  "cells": [
    {
      "cell_type": "markdown",
      "metadata": {
        "id": "XK8g2iilhia2"
      },
      "source": [
        "# 📊 Parcial – Análisis de Redes Sociales (Primer Corte)\n",
        "\n",
        "## 🎯 Objetivo\n",
        "Evaluar tu dominio de **filtros** y **agrupaciones** en Python (sin pivots ni gráficos) y tu capacidad de **análisis de negocio** en métricas de marketing: **CAC, LTV, churn rate, funnel, unit economics (LTV/CAC)**.\n",
        "\n",
        "---\n",
        "## 🧩 Contexto de Negocio (Caso Real)\n",
        "**StartUp SaaS en crecimiento.** Vende planes **Basic, Pro, Enterprise** en **LatAm, North America, Europe, APAC**. Los canales de adquisición son: **meta_ads, google_ads, organic_search, outbound_sales**. Los usuarios se registran por **web** o **mobile_app**.\n",
        "\n",
        "La dirección quiere decidir **dónde invertir el presupuesto del próximo trimestre**. Te piden:\n",
        "\n",
        "1) Identificar **canales más rentables** (relación **LTV/CAC** y churn).  \n",
        "2) Detectar **regiones** con mayor **potencial de crecimiento** y/o **riesgo**.  \n",
        "3) Evaluar el desempeño por **tier** (Basic, Pro, Enterprise).  \n",
        "4) Recomendar **asignación de presupuesto** por **canal + tier**.\n",
        "\n",
        "---\n",
        "## 📂 Instrucciones\n",
        "- Trabaja únicamente con **filtros** y **agrupaciones**. **No uses** tablas dinámicas (pivot), merges ni gráficos.\n",
        "- Archivo a usar: `clientes_marketing.csv`.\n",
        "- Escribe **código + interpretación breve** para cada inciso.\n",
        "- Si el enunciado dice **“Agrupa”**, usa `groupby`. Si dice **“Filtra”**, usa filtrado con máscaras booleanas. Si dice **“Ambas”**, realiza primero el **filtro** y luego la **agrupación**.\n",
        "\n",
        "---\n"
      ],
      "id": "XK8g2iilhia2"
    },
    {
      "cell_type": "markdown",
      "source": [
        "## Descargar Tabla (Correr una vez)"
      ],
      "metadata": {
        "id": "RUVAoxsVoYyx"
      },
      "id": "RUVAoxsVoYyx"
    },
    {
      "cell_type": "code",
      "source": [
        "!wget https://github.com/javierherrera1996/IntroMarketingAnalytics/raw/refs/heads/main/PrimerCorte/cac_ltv_model.csv"
      ],
      "metadata": {
        "id": "ddFB7iT9obhw",
        "colab": {
          "base_uri": "https://localhost:8080/"
        },
        "outputId": "38d77665-acc8-401a-8acf-03ca555c8204"
      },
      "id": "ddFB7iT9obhw",
      "execution_count": null,
      "outputs": [
        {
          "output_type": "stream",
          "name": "stdout",
          "text": [
            "--2025-09-17 23:43:48--  https://github.com/javierherrera1996/IntroMarketingAnalytics/raw/refs/heads/main/PrimerCorte/cac_ltv_model.csv\n",
            "Resolving github.com (github.com)... 140.82.112.4\n",
            "Connecting to github.com (github.com)|140.82.112.4|:443... connected.\n",
            "HTTP request sent, awaiting response... 302 Found\n",
            "Location: https://raw.githubusercontent.com/javierherrera1996/IntroMarketingAnalytics/refs/heads/main/PrimerCorte/cac_ltv_model.csv [following]\n",
            "--2025-09-17 23:43:48--  https://raw.githubusercontent.com/javierherrera1996/IntroMarketingAnalytics/refs/heads/main/PrimerCorte/cac_ltv_model.csv\n",
            "Resolving raw.githubusercontent.com (raw.githubusercontent.com)... 185.199.109.133, 185.199.111.133, 185.199.110.133, ...\n",
            "Connecting to raw.githubusercontent.com (raw.githubusercontent.com)|185.199.109.133|:443... connected.\n",
            "HTTP request sent, awaiting response... 200 OK\n",
            "Length: 661398 (646K) [text/plain]\n",
            "Saving to: ‘cac_ltv_model.csv.2’\n",
            "\n",
            "cac_ltv_model.csv.2 100%[===================>] 645.90K  --.-KB/s    in 0.05s   \n",
            "\n",
            "2025-09-17 23:43:48 (11.5 MB/s) - ‘cac_ltv_model.csv.2’ saved [661398/661398]\n",
            "\n"
          ]
        }
      ]
    },
    {
      "cell_type": "markdown",
      "source": [
        "## Importar Datos"
      ],
      "metadata": {
        "id": "nfDk-HYXoVuq"
      },
      "id": "nfDk-HYXoVuq"
    },
    {
      "cell_type": "code",
      "metadata": {
        "id": "QJpV_gqfhia4"
      },
      "execution_count": null,
      "outputs": [],
      "source": [
        "import pandas as pd\n",
        "pd.set_option('display.float_format', lambda x: f'{x:,.2f}')\n",
        "\n",
        "# 1) Cargar dataset\n",
        "data = pd.read_csv('cac_ltv_model.csv')\n"
      ],
      "id": "QJpV_gqfhia4"
    },
    {
      "cell_type": "markdown",
      "metadata": {
        "id": "dgC-Da02hia5"
      },
      "source": [
        "### ✅ Variables relevantes (recordatorio)\n",
        "- `acquisition_channel`, `signup_source`, `region`, `customer_tier`\n",
        "- `plan_price`, `discount_rate`, `arpu`, `gross_margin`, `churn_rate`\n",
        "- `contract_length_months`, `marketing_spend`\n",
        "\n",
        "### 🧮 Fórmulas de negocio (a usar en el examen)\n",
        "- **CAC por canal**:  \n",
        "    $$ CAC = \\frac{\\text{Total Marketing Spend}}{\\text{Clientes adquiridos}} $$\n",
        "  \n",
        "- **LTV por observación** (aprox.):  \n",
        "   $$ LTV = ARPU \\times contract\\_length\\_months \\times gross\\_margin \\times (1 - churn\\_rate) $$\n",
        "\n",
        "- **Unit economics**:  \n",
        "  $$ LTV/CAC   $$(ideal \\> 3 como regla general de SaaS)\n",
        "\n",
        "---\n",
        "\n"
      ],
      "id": "dgC-Da02hia5"
    },
    {
      "cell_type": "markdown",
      "source": [
        "### Parte Exploratoria: Cree una muestra de los primeros 5 elementos de esta tabla. ¿Cuantas observaciones tienes?"
      ],
      "metadata": {
        "id": "Z8Qtf0brksp4"
      },
      "id": "Z8Qtf0brksp4"
    },
    {
      "cell_type": "code",
      "source": [
        "data = pd.read_csv('cac_ltv_model.csv')\n",
        "print(data.head())\n",
        "print(f\"\\nNumber of observations: {data.shape[0]}\")"
      ],
      "metadata": {
        "id": "QtoVUwx0k01D",
        "colab": {
          "base_uri": "https://localhost:8080/"
        },
        "outputId": "1ce9da14-4f36-4dd7-ebd9-a7d6b410bf7d"
      },
      "id": "QtoVUwx0k01D",
      "execution_count": null,
      "outputs": [
        {
          "output_type": "stream",
          "name": "stdout",
          "text": [
            "   year  month    date  customer_id acquisition_channel signup_source  \\\n",
            "0  2023      1  Jan-23         1001      outbound_sales           web   \n",
            "1  2023      1  Jan-23         1002            meta_ads           web   \n",
            "2  2023      1  Jan-23         1003      organic_search    mobile_app   \n",
            "3  2023      1  Jan-23         1004      organic_search           web   \n",
            "4  2023      1  Jan-23         1005      organic_search           web   \n",
            "\n",
            "          region customer_tier  plan_price  discount_rate   arpu  \\\n",
            "0  North America         Basic       78.84           0.10  63.63   \n",
            "1          LatAm           Pro      120.23           0.00 124.47   \n",
            "2  North America    Enterprise      335.82           0.20 278.20   \n",
            "3         Europe           Pro      193.89           0.10 190.65   \n",
            "4           APAC    Enterprise      471.80           0.10 445.32   \n",
            "\n",
            "   gross_margin  churn_rate  contract_length_months  marketing_spend  \n",
            "0          0.76        0.02                      12           212.48  \n",
            "1          0.84        0.05                       1           352.60  \n",
            "2          0.81        0.02                      12            55.40  \n",
            "3          0.80        0.08                       1            49.10  \n",
            "4          0.80        0.08                       1            45.27  \n",
            "\n",
            "Number of observations: 7057\n"
          ]
        }
      ]
    },
    {
      "cell_type": "markdown",
      "metadata": {
        "id": "Pz-dbPA0hia5"
      },
      "source": [
        "## 🔎 Parte A – Filtros\n",
        "\n",
        "hint: Crea una tabla con el filtro y luego agrupa la variable que te piden.\n",
        "\n",
        "1. **Filtra** los clientes del canal **`meta_ads`**. Calcula el **ARPU promedio** de este subconjunto.  \n",
        "\n"
      ],
      "id": "Pz-dbPA0hia5"
    },
    {
      "cell_type": "code",
      "metadata": {
        "id": "sZnH-WFohia5",
        "colab": {
          "base_uri": "https://localhost:8080/"
        },
        "outputId": "0984898e-bbf8-4667-f500-4154973abb09"
      },
      "execution_count": null,
      "outputs": [
        {
          "output_type": "stream",
          "name": "stdout",
          "text": [
            "Average ARPU for 'meta_ads' customers: $168.79\n"
          ]
        }
      ],
      "source": [
        "meta_ads_data = data[data['acquisition_channel'] == 'meta_ads']\n",
        "meta_ads_arpu = meta_ads_data['arpu'].mean()\n",
        "print(f\"Average ARPU for 'meta_ads' customers: ${meta_ads_arpu:,.2f}\")"
      ],
      "id": "sZnH-WFohia5"
    },
    {
      "cell_type": "markdown",
      "source": [
        "2. **Filtra** clientes de **LatAm** con **`churn_rate > 0.05`**. ¿Cuántos son? ¿Cuál es su **ARPU promedio**?  "
      ],
      "metadata": {
        "id": "L35ewVEKkF8S"
      },
      "id": "L35ewVEKkF8S"
    },
    {
      "cell_type": "code",
      "source": [
        "latam_high_churn = data[(data['region'] == 'LatAm') & (data['churn_rate'] > 0.05)]\n",
        "count_latam_high_churn = latam_high_churn.shape[0]\n",
        "avg_arpu_latam_high_churn = latam_high_churn['arpu'].mean()\n",
        "print(f\"Number of LatAm customers with churn_rate > 0.05: {count_latam_high_churn}\")\n",
        "print(f\"Average ARPU for this group: ${avg_arpu_latam_high_churn:,.2f}\")"
      ],
      "metadata": {
        "id": "migcCxy1kExA",
        "colab": {
          "base_uri": "https://localhost:8080/"
        },
        "outputId": "e67b0158-9304-46a4-89fd-129572e6a502"
      },
      "id": "migcCxy1kExA",
      "execution_count": null,
      "outputs": [
        {
          "output_type": "stream",
          "name": "stdout",
          "text": [
            "Number of LatAm customers with churn_rate > 0.05: 410\n",
            "Average ARPU for this group: $174.78\n"
          ]
        }
      ]
    },
    {
      "cell_type": "markdown",
      "source": [
        "3. **Filtra** clientes **Enterprise** con `contract_length_months > 6`. ¿Cuál es su **gross_margin promedio**?"
      ],
      "metadata": {
        "id": "FAmAB5cskHwK"
      },
      "id": "FAmAB5cskHwK"
    },
    {
      "cell_type": "code",
      "source": [
        "enterprise_long_contract = data[(data['customer_tier'] == 'Enterprise') & (data['contract_length_months'] > 6)]\n",
        "avg_gross_margin_enterprise_long = enterprise_long_contract['gross_margin'].mean()\n",
        "print(f\"Average gross_margin for Enterprise customers with contracts > 6 months: {avg_gross_margin_enterprise_long:.2%}\")"
      ],
      "metadata": {
        "id": "qwkFGvWAjBm1",
        "colab": {
          "base_uri": "https://localhost:8080/"
        },
        "outputId": "7549a1ac-4ee6-496b-d072-c34d83896700"
      },
      "id": "qwkFGvWAjBm1",
      "execution_count": null,
      "outputs": [
        {
          "output_type": "stream",
          "name": "stdout",
          "text": [
            "Average gross_margin for Enterprise customers with contracts > 6 months: 82.48%\n"
          ]
        }
      ]
    },
    {
      "cell_type": "markdown",
      "metadata": {
        "id": "iITo0wtIhia5"
      },
      "source": [
        "## 📊 Parte B – Agrupaciones (SOLO agrupar)\n",
        "4. **Agrupa** por `acquisition_channel` y calcula **ARPU promedio**. Ordena de mayor a menor.  \n"
      ],
      "id": "iITo0wtIhia5"
    },
    {
      "cell_type": "code",
      "metadata": {
        "id": "DFPq1MRLhia5",
        "colab": {
          "base_uri": "https://localhost:8080/"
        },
        "outputId": "d198420a-1d39-4af2-ae9f-2fb4102b1a2e"
      },
      "execution_count": null,
      "outputs": [
        {
          "output_type": "stream",
          "name": "stdout",
          "text": [
            "Average ARPU by Acquisition Channel:\n",
            "acquisition_channel\n",
            "outbound_sales   173.61\n",
            "google_ads       172.37\n",
            "organic_search   171.14\n",
            "meta_ads         168.79\n",
            "Name: arpu, dtype: float64\n"
          ]
        }
      ],
      "source": [
        "arpu_by_channel = data.groupby('acquisition_channel')['arpu'].mean().sort_values(ascending=False)\n",
        "print(\"Average ARPU by Acquisition Channel:\")\n",
        "print(arpu_by_channel)"
      ],
      "id": "DFPq1MRLhia5"
    },
    {
      "cell_type": "markdown",
      "source": [
        "5. **Agrupa** por `region` y calcula **churn_rate promedio**. Identifica la región con mayor churn.  \n",
        "\n"
      ],
      "metadata": {
        "id": "m8g2T45ZkSIu"
      },
      "id": "m8g2T45ZkSIu"
    },
    {
      "cell_type": "code",
      "source": [
        "churn_by_region = data.groupby('region')['churn_rate'].mean().sort_values(ascending=False)\n",
        "print(\"Average Churn Rate by Region:\")\n",
        "print(churn_by_region)\n",
        "print(f\"\\nThe region with the highest churn rate is: {churn_by_region.index[0]}\")"
      ],
      "metadata": {
        "id": "cs-0oGyfkUNU",
        "colab": {
          "base_uri": "https://localhost:8080/"
        },
        "outputId": "b280ed0d-90e1-458a-cd78-534fd854a68b"
      },
      "id": "cs-0oGyfkUNU",
      "execution_count": null,
      "outputs": [
        {
          "output_type": "stream",
          "name": "stdout",
          "text": [
            "Average Churn Rate by Region:\n",
            "region\n",
            "Middle East     0.05\n",
            "LatAm           0.05\n",
            "North America   0.05\n",
            "APAC            0.05\n",
            "Europe          0.05\n",
            "Africa          0.05\n",
            "Name: churn_rate, dtype: float64\n",
            "\n",
            "The region with the highest churn rate is: Middle East\n"
          ]
        }
      ]
    },
    {
      "cell_type": "markdown",
      "source": [
        "6. **Agrupa** por `customer_tier` y calcula **marketing_spend total**. ¿Cuál tier consume más presupuesto?"
      ],
      "metadata": {
        "id": "snguEL66kTgQ"
      },
      "id": "snguEL66kTgQ"
    },
    {
      "cell_type": "code",
      "source": [
        "marketing_spend_by_tier = data.groupby('customer_tier')['marketing_spend'].sum().sort_values(ascending=False)\n",
        "print(\"Total Marketing Spend by Customer Tier:\")\n",
        "print(marketing_spend_by_tier)\n",
        "print(f\"\\nThe tier that consumes the most budget is: {marketing_spend_by_tier.index[0]}\")"
      ],
      "metadata": {
        "id": "sScC7EbgkUqO",
        "colab": {
          "base_uri": "https://localhost:8080/"
        },
        "outputId": "52ffdcc2-8a50-4830-b322-9b89aa386699"
      },
      "id": "sScC7EbgkUqO",
      "execution_count": null,
      "outputs": [
        {
          "output_type": "stream",
          "name": "stdout",
          "text": [
            "Total Marketing Spend by Customer Tier:\n",
            "customer_tier\n",
            "Pro          589,265.04\n",
            "Basic        584,419.11\n",
            "Enterprise   584,348.87\n",
            "Name: marketing_spend, dtype: float64\n",
            "\n",
            "The tier that consumes the most budget is: Pro\n"
          ]
        }
      ]
    },
    {
      "cell_type": "markdown",
      "metadata": {
        "id": "F8iPMr3Phia6"
      },
      "source": [
        "## 🔀 Parte C – Filtro **y** Agrupación (Ambas)\n",
        "7. **Filtra** solo registros de **`signup_source = 'web'`** y luego **agrupa** por `acquisition_channel` para obtener el **churn_rate promedio**.  \n"
      ],
      "id": "F8iPMr3Phia6"
    },
    {
      "cell_type": "code",
      "metadata": {
        "id": "4beaTTDqhia6",
        "colab": {
          "base_uri": "https://localhost:8080/"
        },
        "outputId": "b1558e88-87c9-4c37-de88-5db604695907"
      },
      "execution_count": null,
      "outputs": [
        {
          "output_type": "stream",
          "name": "stdout",
          "text": [
            "Average Churn Rate for Web Signups by Acquisition Channel:\n",
            "acquisition_channel\n",
            "google_ads       0.05\n",
            "meta_ads         0.05\n",
            "organic_search   0.05\n",
            "outbound_sales   0.05\n",
            "Name: churn_rate, dtype: float64\n"
          ]
        }
      ],
      "source": [
        "web_signups = data[data['signup_source'] == 'web']\n",
        "web_churn_by_channel = web_signups.groupby('acquisition_channel')['churn_rate'].mean().sort_values(ascending=False)\n",
        "print(\"Average Churn Rate for Web Signups by Acquisition Channel:\")\n",
        "print(web_churn_by_channel)"
      ],
      "id": "4beaTTDqhia6"
    },
    {
      "cell_type": "markdown",
      "source": [
        "8. **Filtra** solo **`mobile_app`** y luego **agrupa** por `region` para calcular **ARPU promedio**.  \n"
      ],
      "metadata": {
        "id": "mDlYBs3bkgP3"
      },
      "id": "mDlYBs3bkgP3"
    },
    {
      "cell_type": "code",
      "source": [
        "mobile_signups = data[data['signup_source'] == 'mobile_app']\n",
        "mobile_arpu_by_region = mobile_signups.groupby('region')['arpu'].mean().sort_values(ascending=False)\n",
        "print(\"Average ARPU for Mobile App Signups by Region:\")\n",
        "print(mobile_arpu_by_region)"
      ],
      "metadata": {
        "id": "sStudHFWkhd-",
        "colab": {
          "base_uri": "https://localhost:8080/"
        },
        "outputId": "ade90109-399b-49dc-813e-9b10fee137b2"
      },
      "id": "sStudHFWkhd-",
      "execution_count": null,
      "outputs": [
        {
          "output_type": "stream",
          "name": "stdout",
          "text": [
            "Average ARPU for Mobile App Signups by Region:\n",
            "region\n",
            "North America   174.00\n",
            "LatAm           173.20\n",
            "Africa          172.60\n",
            "Middle East     171.71\n",
            "APAC            169.09\n",
            "Europe          165.89\n",
            "Name: arpu, dtype: float64\n"
          ]
        }
      ]
    },
    {
      "cell_type": "markdown",
      "source": [
        "9. **Filtra** a clientes **`Pro`** y **agrupa** por `acquisition_channel` para calcular **marketing_spend total**.\n"
      ],
      "metadata": {
        "id": "-HGz_njqkht4"
      },
      "id": "-HGz_njqkht4"
    },
    {
      "cell_type": "code",
      "source": [
        "pro_tier_data = data[data['customer_tier'] == 'Pro']\n",
        "pro_spend_by_channel = pro_tier_data.groupby('acquisition_channel')['marketing_spend'].sum().sort_values(ascending=False)\n",
        "print(\"Total Marketing Spend for Pro Tier Customers by Acquisition Channel:\")\n",
        "print(pro_spend_by_channel)"
      ],
      "metadata": {
        "id": "XKoIbLfVkiYV",
        "colab": {
          "base_uri": "https://localhost:8080/"
        },
        "outputId": "408746e3-0558-4659-980e-a81ebbc5520e"
      },
      "id": "XKoIbLfVkiYV",
      "execution_count": null,
      "outputs": [
        {
          "output_type": "stream",
          "name": "stdout",
          "text": [
            "Total Marketing Spend for Pro Tier Customers by Acquisition Channel:\n",
            "acquisition_channel\n",
            "google_ads       226,721.68\n",
            "meta_ads         211,517.60\n",
            "outbound_sales   121,177.04\n",
            "organic_search    29,848.72\n",
            "Name: marketing_spend, dtype: float64\n"
          ]
        }
      ]
    },
    {
      "cell_type": "markdown",
      "metadata": {
        "id": "ZQ1HYAXmhia6"
      },
      "source": [
        "## 📈 Parte D – Métricas de negocio (CAC, LTV, LTV/CAC)\n",
        "10. **CAC por canal (Agrupa)**: calcula el CAC de cada `acquisition_channel` como:  \n",
        "   `CAC = marketing_spend_total_del_canal / #clientes_del_canal`  \n"
      ],
      "id": "ZQ1HYAXmhia6"
    },
    {
      "cell_type": "code",
      "metadata": {
        "id": "KpT2rkY0hia6",
        "colab": {
          "base_uri": "https://localhost:8080/"
        },
        "outputId": "8ce1c0ef-c7b3-4317-cac7-ab0f58843bc7"
      },
      "execution_count": null,
      "outputs": [
        {
          "output_type": "stream",
          "name": "stdout",
          "text": [
            "CAC by Acquisition Channel:\n",
            "acquisition_channel\n",
            "organic_search    49.95\n",
            "outbound_sales   200.22\n",
            "meta_ads         349.27\n",
            "google_ads       401.02\n",
            "dtype: float64\n"
          ]
        }
      ],
      "source": [
        "channel_spend = data.groupby('acquisition_channel')['marketing_spend'].sum()\n",
        "channel_customers = data.groupby('acquisition_channel').size()\n",
        "cac_by_channel = channel_spend / channel_customers\n",
        "print(\"CAC by Acquisition Channel:\")\n",
        "print(cac_by_channel.sort_values())"
      ],
      "id": "KpT2rkY0hia6"
    },
    {
      "cell_type": "markdown",
      "source": [
        "11. **CAC por tier (Agrupa)**: calcula el CAC de cada `customer_tier` como:  \n",
        "   `CAC = marketing_spend_total_del_tier / #clientes_del_canal`  \n"
      ],
      "metadata": {
        "id": "Dtyl7uKTmaJi"
      },
      "id": "Dtyl7uKTmaJi"
    },
    {
      "cell_type": "code",
      "source": [
        "tier_spend = data.groupby('customer_tier')['marketing_spend'].sum()\n",
        "tier_customers = data.groupby('customer_tier').size()\n",
        "cac_by_tier = tier_spend / tier_customers\n",
        "print(\"CAC by Customer Tier:\")\n",
        "print(cac_by_tier.sort_values())"
      ],
      "metadata": {
        "id": "xAR6WFylmoPI",
        "colab": {
          "base_uri": "https://localhost:8080/"
        },
        "outputId": "6ed5ab25-470d-4110-c797-cc6f6acbe13e"
      },
      "id": "xAR6WFylmoPI",
      "execution_count": null,
      "outputs": [
        {
          "output_type": "stream",
          "name": "stdout",
          "text": [
            "CAC by Customer Tier:\n",
            "customer_tier\n",
            "Pro          248.43\n",
            "Enterprise   249.19\n",
            "Basic        249.75\n",
            "dtype: float64\n"
          ]
        }
      ]
    },
    {
      "cell_type": "markdown",
      "source": [
        "12. **LTV por tier (Ambas)**: crea una columna `ltv_individual` con la fórmula dada.\n"
      ],
      "metadata": {
        "id": "BL42ZC46mvfJ"
      },
      "id": "BL42ZC46mvfJ"
    },
    {
      "cell_type": "code",
      "source": [
        "data['ltv_individual'] = data['arpu'] * data['contract_length_months'] * data['gross_margin'] * (1 - data['churn_rate'])"
      ],
      "metadata": {
        "id": "cAx0zUG7nxXD"
      },
      "id": "cAx0zUG7nxXD",
      "execution_count": null,
      "outputs": []
    },
    {
      "cell_type": "markdown",
      "source": [
        "12. A. Luego **agrupa** `ltv_individual` por\n",
        "`acquisition_channel` para obtener el **LTV promedio**.  "
      ],
      "metadata": {
        "id": "eGhf_AInnX7J"
      },
      "id": "eGhf_AInnX7J"
    },
    {
      "cell_type": "code",
      "source": [
        "ltv_by_channel = data.groupby('acquisition_channel')['ltv_individual'].mean().sort_values(ascending=False)\n",
        "print(\"Average LTV by Acquisition Channel:\")\n",
        "print(ltv_by_channel)"
      ],
      "metadata": {
        "id": "bT_0NgYfmxUm",
        "colab": {
          "base_uri": "https://localhost:8080/"
        },
        "outputId": "8017009b-5beb-4d1b-d7eb-c88f1cdb0860"
      },
      "id": "bT_0NgYfmxUm",
      "execution_count": null,
      "outputs": [
        {
          "output_type": "stream",
          "name": "stdout",
          "text": [
            "Average LTV by Acquisition Channel:\n",
            "acquisition_channel\n",
            "organic_search   765.13\n",
            "outbound_sales   751.57\n",
            "meta_ads         729.05\n",
            "google_ads       710.25\n",
            "Name: ltv_individual, dtype: float64\n"
          ]
        }
      ]
    },
    {
      "cell_type": "markdown",
      "source": [
        "12. B. Luego **agrupa** `ltv_individual`por `customer_tier` para obtener el **LTV promedio**.\n",
        "\n",
        "\n",
        "\n"
      ],
      "metadata": {
        "id": "fTeWGE2-lJMM"
      },
      "id": "fTeWGE2-lJMM"
    },
    {
      "cell_type": "code",
      "source": [
        "ltv_by_tier = data.groupby('customer_tier')['ltv_individual'].mean().sort_values(ascending=False)\n",
        "print(\"Average LTV by Customer Tier:\")\n",
        "print(ltv_by_tier)"
      ],
      "metadata": {
        "id": "Gmzebd7JlB5C",
        "colab": {
          "base_uri": "https://localhost:8080/"
        },
        "outputId": "44dce9cc-ac24-4197-dc69-ce171a2bc3d7"
      },
      "id": "Gmzebd7JlB5C",
      "execution_count": null,
      "outputs": [
        {
          "output_type": "stream",
          "name": "stdout",
          "text": [
            "Average LTV by Customer Tier:\n",
            "customer_tier\n",
            "Enterprise   1,349.02\n",
            "Pro            577.63\n",
            "Basic          291.77\n",
            "Name: ltv_individual, dtype: float64\n"
          ]
        }
      ]
    },
    {
      "cell_type": "markdown",
      "source": [
        "13. **Unit economics (Ambas)**: combina tus resultados para comparar **LTV promedio por tier** contra **CAC por canal** y comenta **qué combinaciones canal + tier** lucen más saludables (busca **LTV/CAC > 3**).\n"
      ],
      "metadata": {
        "id": "iC8EKMVhlK3e"
      },
      "id": "iC8EKMVhlK3e"
    },
    {
      "cell_type": "code",
      "source": [
        "ltv_by_tier_calc = data.groupby('customer_tier')['ltv_individual'].mean()\n",
        "\n",
        "print(\"Unit Economics (LTV/CAC) Analysis:\")\n",
        "print(f\"LTV (Enterprise): ${ltv_by_tier_calc['Enterprise']:,.2f} vs. CAC (Organic Search): ${cac_by_channel['organic_search']:,.2f}. Ratio: {ltv_by_tier_calc['Enterprise'] / cac_by_channel['organic_search']:.2f}\")\n",
        "print(f\"LTV (Enterprise): ${ltv_by_tier_calc['Enterprise']:,.2f} vs. CAC (Outbound Sales): ${cac_by_channel['outbound_sales']:,.2f}. Ratio: {ltv_by_tier_calc['Enterprise'] / cac_by_channel['outbound_sales']:.2f}\")\n",
        "print(f\"LTV (Pro): ${ltv_by_tier_calc['Pro']:,.2f} vs. CAC (Google Ads): ${cac_by_channel['google_ads']:,.2f}. Ratio: {ltv_by_tier_calc['Pro'] / cac_by_channel['google_ads']:.2f}\")\n",
        "print(f\"LTV (Basic): ${ltv_by_tier_calc['Basic']:,.2f} vs. CAC (Meta Ads): ${cac_by_channel['meta_ads']:,.2f}. Ratio: {ltv_by_tier_calc['Basic'] / cac_by_channel['meta_ads']:.2f}\")"
      ],
      "metadata": {
        "id": "hysu2126oCoR",
        "colab": {
          "base_uri": "https://localhost:8080/"
        },
        "outputId": "dd022435-b2f5-4dfb-a5ec-44186ec12580"
      },
      "id": "hysu2126oCoR",
      "execution_count": null,
      "outputs": [
        {
          "output_type": "stream",
          "name": "stdout",
          "text": [
            "Unit Economics (LTV/CAC) Analysis:\n",
            "LTV (Enterprise): $1,349.02 vs. CAC (Organic Search): $49.95. Ratio: 27.01\n",
            "LTV (Enterprise): $1,349.02 vs. CAC (Outbound Sales): $200.22. Ratio: 6.74\n",
            "LTV (Pro): $577.63 vs. CAC (Google Ads): $401.02. Ratio: 1.44\n",
            "LTV (Basic): $291.77 vs. CAC (Meta Ads): $349.27. Ratio: 0.84\n"
          ]
        }
      ]
    },
    {
      "cell_type": "markdown",
      "metadata": {
        "id": "kh-En2p1hia6"
      },
      "source": [
        "## 🧠 Parte E – Análisis crítico (respuesta abierta)\n",
        "13. **CMO por un día**: con tus resultados, ¿en qué **canal(es)** invertirías más el próximo trimestre? ¿Por qué? (Cita **CAC** y **churn**).  \n",
        "14. ¿Qué **región** ves con mayor riesgo? ¿Qué hipótesis explicarían su **churn**?  \n",
        "15. Identifica **dos combinaciones canal + tier** con mejor **LTV/CAC** y propón **dos acciones** concretas de optimización (p. ej., creatividades, audiencias, pricing, retención).\n",
        "\n",
        "---\n",
        "✍️ **Nota**: Mantente disciplinado con el enunciado (**Filtra**, **Agrupa**, **Ambas**). La evaluación pondera **correctitud técnica** y **calidad de interpretación de negocio**.\n"
      ],
      "id": "kh-En2p1hia6"
    },
    {
      "cell_type": "markdown",
      "source": [
        "13.: Si yo fuera CMO por un día invertiría en google adds y organic search. Organic search por el hecho de que tiene el CAC más bajo lo que indica que la tasa de adquisisión de clientes es muy eficiente, por lo mismo la tasa de abandono al ser tan baja, solo de un poco mas de dos porciento, hace que sea ideal invertir ahí. y en google adds esto ya que aunque el CAC es un poco más alto la tasa de abandono sigue sin superar el 3 porciento lo que hace que siga siendo una opción bastante buena para invertir.\n"
      ],
      "metadata": {
        "id": "BWxtL3ZrHfqC"
      },
      "id": "BWxtL3ZrHfqC"
    },
    {
      "cell_type": "markdown",
      "source": [
        "14.: Para empezar latinoamérica es el mayor riesgo ya que tienen una tasa de abandono más alta que el resto, superior a un 3 porciento.\n",
        "HIPOTESIS: mi hipotesis se basa principalmente en dos factores. El primero es la gran inestabilidad económica de los paises latinos lo que puede ser gran causante de buscar reducir costos ocasionando las cancelaciones. y el segundo factor es la atención al cliente, ya que al no ser un producto creado especificamente para el público latino y nunca ser el mercado principal puede que hayan falencias de atención las cuelaes ocasionan la perdida.\n"
      ],
      "metadata": {
        "id": "sPFhloMrKNN_"
      },
      "id": "sPFhloMrKNN_"
    },
    {
      "cell_type": "markdown",
      "source": [
        "15.: google adds + pro\n",
        "Acción 1 (precios): Probar un precio ligeramente más alto para el Pronivel desde google ads para obtener más valor por cliente, dada la alta rentabilidad de la relación LTV/CAC. Esto se puede lograr mediante pruebas A/B en páginas de destino.\n",
        "Acción 2 (Audiencia): Refina la segmentación de google ads para enfocarte en audiencias similares que se asemejen a los clientes actuales de alto valor Pro, en lugar de solo palabras clave generales. Esto atraerá usuarios rentables similares y optimizará la inversión publicitaria."
      ],
      "metadata": {
        "id": "0PsDEWkYMG7o"
      },
      "id": "0PsDEWkYMG7o"
    }
  ],
  "metadata": {
    "kernelspec": {
      "display_name": "Python 3",
      "language": "python",
      "name": "python3"
    },
    "language_info": {
      "name": "python",
      "version": "3.10"
    },
    "colab": {
      "provenance": []
    }
  },
  "nbformat": 4,
  "nbformat_minor": 5
}